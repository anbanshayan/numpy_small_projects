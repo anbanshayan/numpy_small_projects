{
 "cells": [
  {
   "cell_type": "code",
   "execution_count": 2,
   "metadata": {},
   "outputs": [],
   "source": [
    "import numpy as np \n",
    "data = np.genfromtxt(\"days.csv\",delimiter=',',skip_header=1)"
   ]
  },
  {
   "cell_type": "code",
   "execution_count": 14,
   "metadata": {},
   "outputs": [
    {
     "name": "stdout",
     "output_type": "stream",
     "text": [
      "2\n",
      "Maximum amount were sold : 290.0\n"
     ]
    }
   ],
   "source": [
    "#What is the average sales for each product? Which product had the highest average sales?\n",
    "goods = np.mean(data,axis=0)\n",
    "goods\n",
    "\n",
    "#it will give the index as output not the exact value needed\n",
    "goods_max = np.argmax(goods) \n",
    "print(goods_max)\n",
    "\n",
    "#now following will return exact count\n",
    "goods_max_count = goods[goods_max]\n",
    "print(\"Maximum amount were sold :\",goods_max_count)"
   ]
  },
  {
   "cell_type": "code",
   "execution_count": 12,
   "metadata": {},
   "outputs": [
    {
     "name": "stdout",
     "output_type": "stream",
     "text": [
      "[310. 600. 870. 390. 690.]\n",
      "Total sales made on Monday =  310.0\n"
     ]
    }
   ],
   "source": [
    "#For each product, which day had the highest sales, and how many units were sold on that day?\n",
    "day_sum = np.sum(data,axis=0)\n",
    "print(day_sum)\n",
    "print(\"Total sales made on Monday = \",day_sum[0])"
   ]
  },
  {
   "cell_type": "code",
   "execution_count": 15,
   "metadata": {},
   "outputs": [
    {
     "name": "stdout",
     "output_type": "stream",
     "text": [
      "Total sales made during first week =  1000.0\n"
     ]
    }
   ],
   "source": [
    "#Sales made during first week\n",
    "first_week_sale = np.sum(data,axis=1)\n",
    "print(\"Total sales made during first week = \",first_week_sale[0])"
   ]
  },
  {
   "cell_type": "code",
   "execution_count": null,
   "metadata": {},
   "outputs": [],
   "source": []
  }
 ],
 "metadata": {
  "kernelspec": {
   "display_name": "myenv",
   "language": "python",
   "name": "python3"
  },
  "language_info": {
   "codemirror_mode": {
    "name": "ipython",
    "version": 3
   },
   "file_extension": ".py",
   "mimetype": "text/x-python",
   "name": "python",
   "nbconvert_exporter": "python",
   "pygments_lexer": "ipython3",
   "version": "3.12.3"
  }
 },
 "nbformat": 4,
 "nbformat_minor": 2
}
