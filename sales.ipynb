{
 "cells": [
  {
   "cell_type": "code",
   "execution_count": 11,
   "metadata": {},
   "outputs": [
    {
     "name": "stdout",
     "output_type": "stream",
     "text": [
      "The lowest day is on Friday with 98.0\n"
     ]
    }
   ],
   "source": [
    "import numpy as np\n",
    "\n",
    "data = np.genfromtxt(\"sales.csv\",delimiter=',',skip_header=1)\n",
    "\n",
    "#Calculate the total sales for each day across all products. Which day had the lowest total sales?\n",
    "week_sale = np.sum(data,axis=0)\n",
    "week_sale\n",
    "\n",
    "low_sale = np.argmin(week_sale,axis=0)\n",
    "day_names = ['Monday','Tuesday','Wednesday','Thrusday','Friday']\n",
    "low_sale_day = day_names[low_sale]\n",
    "\n",
    "#finding index of the day with lowest sale\n",
    "low_index = np.argmin(week_sale)\n",
    "\n",
    "low_amount = week_sale[low_index]\n",
    "\n",
    "print(f\"The lowest day is on {low_sale_day} with {low_amount}\")"
   ]
  },
  {
   "cell_type": "code",
   "execution_count": null,
   "metadata": {},
   "outputs": [],
   "source": []
  }
 ],
 "metadata": {
  "kernelspec": {
   "display_name": "myenv",
   "language": "python",
   "name": "python3"
  },
  "language_info": {
   "codemirror_mode": {
    "name": "ipython",
    "version": 3
   },
   "file_extension": ".py",
   "mimetype": "text/x-python",
   "name": "python",
   "nbconvert_exporter": "python",
   "pygments_lexer": "ipython3",
   "version": "3.12.3"
  }
 },
 "nbformat": 4,
 "nbformat_minor": 2
}
