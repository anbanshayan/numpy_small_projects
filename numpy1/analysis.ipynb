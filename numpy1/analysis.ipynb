{
 "cells": [
  {
   "cell_type": "code",
   "execution_count": 5,
   "metadata": {},
   "outputs": [
    {
     "name": "stdout",
     "output_type": "stream",
     "text": [
      "[190. 210. 202. 217. 226. 225. 248.]\n"
     ]
    }
   ],
   "source": [
    "import numpy as np\n",
    "\n",
    "data = np.genfromtxt(\"sales_data.csv\",delimiter=',',skip_header=True)\n",
    "\n",
    "product1_sum = np.sum(data,axis=0)\n",
    "\n",
    "print(product1_sum)"
   ]
  },
  {
   "cell_type": "code",
   "execution_count": 8,
   "metadata": {},
   "outputs": [
    {
     "name": "stdout",
     "output_type": "stream",
     "text": [
      "[38.  42.  40.4 43.4 45.2 45.  49.6]\n"
     ]
    }
   ],
   "source": [
    "#Find the average daily sales for each product.\n",
    "average_daily_sales = np.mean(data,axis=0)\n",
    "print(average_daily_sales)"
   ]
  },
  {
   "cell_type": "code",
   "execution_count": 11,
   "metadata": {},
   "outputs": [
    {
     "name": "stdout",
     "output_type": "stream",
     "text": [
      "[80. 78. 85. 88. 90. 87. 92.]\n"
     ]
    }
   ],
   "source": [
    "#Identify the product with the highest total sales.\n",
    "pdt_max = np.max(data,axis=0)\n",
    "print(pdt_max)"
   ]
  },
  {
   "cell_type": "code",
   "execution_count": 16,
   "metadata": {},
   "outputs": [
    {
     "name": "stdout",
     "output_type": "stream",
     "text": [
      "total sales on Wednesday =  202.0\n"
     ]
    }
   ],
   "source": [
    "#Find the total sales for all products on Wednesday.\n",
    "total_sales =   np.sum(data[:,2])\n",
    "print(\"total sales on Wednesday = \",total_sales)"
   ]
  },
  {
   "cell_type": "code",
   "execution_count": 19,
   "metadata": {},
   "outputs": [
    {
     "data": {
      "text/plain": [
       "np.float64(92.0)"
      ]
     },
     "execution_count": 19,
     "metadata": {},
     "output_type": "execute_result"
    }
   ],
   "source": [
    "#Determine the day with the highest overall sales across all products.\n",
    "max_day = np.max(data[:,:])\n",
    "max_day"
   ]
  },
  {
   "cell_type": "code",
   "execution_count": 20,
   "metadata": {},
   "outputs": [],
   "source": [
    "days = ['Monday','Tuesday','Wednesday','Thursday','Friday','Saturday','Sunday']"
   ]
  },
  {
   "cell_type": "code",
   "execution_count": 24,
   "metadata": {},
   "outputs": [
    {
     "name": "stdout",
     "output_type": "stream",
     "text": [
      "Sunday\n",
      "6\n"
     ]
    }
   ],
   "source": [
    "day_with_highest_sales = np.argmax(np.sum(data,axis=0))\n",
    "highest_sales_day =days[day_with_highest_sales]\n",
    "print(highest_sales_day)\n",
    "print(day_with_highest_sales)"
   ]
  },
  {
   "cell_type": "code",
   "execution_count": null,
   "metadata": {},
   "outputs": [],
   "source": []
  }
 ],
 "metadata": {
  "kernelspec": {
   "display_name": "myenv",
   "language": "python",
   "name": "python3"
  },
  "language_info": {
   "codemirror_mode": {
    "name": "ipython",
    "version": 3
   },
   "file_extension": ".py",
   "mimetype": "text/x-python",
   "name": "python",
   "nbconvert_exporter": "python",
   "pygments_lexer": "ipython3",
   "version": "3.12.3"
  }
 },
 "nbformat": 4,
 "nbformat_minor": 2
}
