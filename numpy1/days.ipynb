{
 "cells": [
  {
   "cell_type": "code",
   "execution_count": 2,
   "metadata": {},
   "outputs": [],
   "source": [
    "import numpy as np \n",
    "data = np.genfromtxt(\"days.csv\",delimiter=',',skip_header=1)"
   ]
  },
  {
   "cell_type": "code",
   "execution_count": 14,
   "metadata": {},
   "outputs": [
    {
     "name": "stdout",
     "output_type": "stream",
     "text": [
      "2\n",
      "Maximum amount were sold : 290.0\n"
     ]
    }
   ],
   "source": [
    "#What is the average sales for each product? Which product had the highest average sales?\n",
    "goods = np.mean(data,axis=0)\n",
    "goods\n",
    "\n",
    "#it will give the index as output not the exact value needed\n",
    "goods_max = np.argmax(goods) \n",
    "print(goods_max)\n",
    "\n",
    "#now following will return exact count\n",
    "goods_max_count = goods[goods_max]\n",
    "print(\"Maximum amount were sold :\",goods_max_count)"
   ]
  },
  {
   "cell_type": "code",
   "execution_count": 12,
   "metadata": {},
   "outputs": [
    {
     "name": "stdout",
     "output_type": "stream",
     "text": [
      "[310. 600. 870. 390. 690.]\n",
      "Total sales made on Monday =  310.0\n"
     ]
    }
   ],
   "source": [
    "#For each product, which day had the highest sales, and how many units were sold on that day?\n",
    "day_sum = np.sum(data,axis=0)\n",
    "print(day_sum)\n",
    "print(\"Total sales made on Monday = \",day_sum[0])"
   ]
  },
  {
   "cell_type": "code",
   "execution_count": null,
   "metadata": {},
   "outputs": [],
   "source": []
  },
  {
   "cell_type": "code",
   "execution_count": 38,
   "metadata": {},
   "outputs": [
    {
     "name": "stdout",
     "output_type": "stream",
     "text": [
      "Total sales made by first product =  1000.0\n"
     ]
    }
   ],
   "source": [
    "#Sales made by first oroduct\n",
    "week_sale = np.sum(data,axis=1)\n",
    "print(\"Total sales made by first product = \",week_sale[0])"
   ]
  },
  {
   "cell_type": "code",
   "execution_count": 23,
   "metadata": {},
   "outputs": [
    {
     "name": "stdout",
     "output_type": "stream",
     "text": [
      "[300. 250. 320.]\n",
      "[100.  90. 120.]\n",
      "200.0\n",
      "0\n",
      "Product 1 had the highest fluctuation of 200.00\n"
     ]
    }
   ],
   "source": [
    "#For each product, calculate the difference between the highest and lowest sales days. Which product had the highest fluctuation in sales?\n",
    "pdt_max = np.max(data,axis=1)\n",
    "print(pdt_max)\n",
    "\n",
    "pdt_min = np.min(data,axis=1)\n",
    "print(pdt_min)\n",
    "\n",
    "fluctuation = pdt_max-pdt_min\n",
    "fluct_max = np.max(fluctuation)\n",
    "print(fluct_max)\n",
    "\n",
    "highest_fluctuation_index = np.argmax(fluctuation)\n",
    "print(highest_fluctuation_index)\n",
    "highest_fluctuation_value = fluctuation[highest_fluctuation_index]\n",
    "\n",
    "print(f\"Product {highest_fluctuation_index + 1} had the highest fluctuation of {highest_fluctuation_value:.2f}\")"
   ]
  },
  {
   "cell_type": "code",
   "execution_count": 30,
   "metadata": {},
   "outputs": [
    {
     "name": "stdout",
     "output_type": "stream",
     "text": [
      "[310. 600. 870. 390. 690.]\n",
      "2860.0\n",
      "Total sales made =  2860.0\n"
     ]
    }
   ],
   "source": [
    "#What is the total sales amount for all products across all days?\n",
    "total_sales = np.sum(data,axis=0)\n",
    "print(total_sales)\n",
    "total = np.sum(total_sales)\n",
    "print(total)\n",
    "#Here we find through two steps. We can find through one step easily as follows.\n",
    "\n",
    "total_sum = np.sum(data)\n",
    "print(\"Total sales made = \",total_sum)"
   ]
  },
  {
   "cell_type": "code",
   "execution_count": 39,
   "metadata": {},
   "outputs": [
    {
     "name": "stdout",
     "output_type": "stream",
     "text": [
      "34.96503496503497\n",
      "28.671328671328673\n",
      "36.36363636363637\n"
     ]
    }
   ],
   "source": [
    "#What percentage of the total weekly sales did each product contribute?\n",
    "first_pdt_percent = week_sale[0] / total_sum *100\n",
    "second_pdt_percent = week_sale[1] / total_sum *100\n",
    "third_pdt_percent = week_sale[2] / total_sum *100\n",
    "\n",
    "print(first_pdt_percent)\n",
    "print(second_pdt_percent)\n",
    "print(third_pdt_percent)"
   ]
  },
  {
   "cell_type": "code",
   "execution_count": null,
   "metadata": {},
   "outputs": [],
   "source": []
  }
 ],
 "metadata": {
  "kernelspec": {
   "display_name": "myenv",
   "language": "python",
   "name": "python3"
  },
  "language_info": {
   "codemirror_mode": {
    "name": "ipython",
    "version": 3
   },
   "file_extension": ".py",
   "mimetype": "text/x-python",
   "name": "python",
   "nbconvert_exporter": "python",
   "pygments_lexer": "ipython3",
   "version": "3.12.3"
  }
 },
 "nbformat": 4,
 "nbformat_minor": 2
}
